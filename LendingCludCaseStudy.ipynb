{
 "cells": [
  {
   "cell_type": "code",
   "execution_count": 13,
   "id": "0091439d",
   "metadata": {},
   "outputs": [
    {
     "name": "stdout",
     "output_type": "stream",
     "text": [
      "<class 'pandas.core.frame.DataFrame'>\n",
      "RangeIndex: 39717 entries, 0 to 39716\n",
      "Columns: 111 entries, id to total_il_high_credit_limit\n",
      "dtypes: float64(74), int64(13), object(24)\n",
      "memory usage: 33.6+ MB\n"
     ]
    }
   ],
   "source": [
    "import pandas as pd\n",
    "\n",
    "df = pd.read_csv('Loan.csv')\n",
    "\n",
    "df.info()\n"
   ]
  },
  {
   "cell_type": "code",
   "execution_count": 14,
   "id": "3d0eef1b",
   "metadata": {},
   "outputs": [
    {
     "data": {
      "text/plain": [
       "id                                0\n",
       "member_id                         0\n",
       "loan_amnt                         0\n",
       "funded_amnt                       0\n",
       "funded_amnt_inv                   0\n",
       "                              ...  \n",
       "tax_liens                        39\n",
       "tot_hi_cred_lim               39717\n",
       "total_bal_ex_mort             39717\n",
       "total_bc_limit                39717\n",
       "total_il_high_credit_limit    39717\n",
       "Length: 111, dtype: int64"
      ]
     },
     "execution_count": 14,
     "metadata": {},
     "output_type": "execute_result"
    }
   ],
   "source": [
    "df.isnull().sum()"
   ]
  },
  {
   "cell_type": "code",
   "execution_count": 21,
   "id": "97a8e75f",
   "metadata": {},
   "outputs": [
    {
     "name": "stdout",
     "output_type": "stream",
     "text": [
      "id    0\n",
      "member_id    0\n",
      "loan_amnt    0\n",
      "funded_amnt    0\n",
      "funded_amnt_inv    0\n",
      "term    0\n",
      "int_rate    0\n",
      "installment    0\n",
      "grade    0\n",
      "sub_grade    0\n",
      "emp_title    2459\n",
      "emp_length    1075\n",
      "home_ownership    0\n",
      "annual_inc    0\n",
      "verification_status    0\n",
      "issue_d    0\n",
      "loan_status    0\n",
      "pymnt_plan    0\n",
      "url    0\n",
      "desc    12940\n",
      "purpose    0\n",
      "title    11\n",
      "zip_code    0\n",
      "addr_state    0\n",
      "dti    0\n",
      "delinq_2yrs    0\n",
      "earliest_cr_line    0\n",
      "inq_last_6mths    0\n",
      "mths_since_last_delinq    25682\n",
      "mths_since_last_record    36931\n",
      "open_acc    0\n",
      "pub_rec    0\n",
      "revol_bal    0\n",
      "revol_util    50\n",
      "total_acc    0\n",
      "initial_list_status    0\n",
      "out_prncp    0\n",
      "out_prncp_inv    0\n",
      "total_pymnt    0\n",
      "total_pymnt_inv    0\n",
      "total_rec_prncp    0\n",
      "total_rec_int    0\n",
      "total_rec_late_fee    0\n",
      "recoveries    0\n",
      "collection_recovery_fee    0\n",
      "last_pymnt_d    71\n",
      "last_pymnt_amnt    0\n",
      "next_pymnt_d    38577\n",
      "last_credit_pull_d    2\n",
      "collections_12_mths_ex_med    56\n",
      "mths_since_last_major_derog    39717\n",
      "policy_code    0\n",
      "application_type    0\n",
      "annual_inc_joint    39717\n",
      "dti_joint    39717\n",
      "verification_status_joint    39717\n",
      "acc_now_delinq    0\n",
      "tot_coll_amt    39717\n",
      "tot_cur_bal    39717\n",
      "open_acc_6m    39717\n",
      "open_il_6m    39717\n",
      "open_il_12m    39717\n",
      "open_il_24m    39717\n",
      "mths_since_rcnt_il    39717\n",
      "total_bal_il    39717\n",
      "il_util    39717\n",
      "open_rv_12m    39717\n",
      "open_rv_24m    39717\n",
      "max_bal_bc    39717\n",
      "all_util    39717\n",
      "total_rev_hi_lim    39717\n",
      "inq_fi    39717\n",
      "total_cu_tl    39717\n",
      "inq_last_12m    39717\n",
      "acc_open_past_24mths    39717\n",
      "avg_cur_bal    39717\n",
      "bc_open_to_buy    39717\n",
      "bc_util    39717\n",
      "chargeoff_within_12_mths    56\n",
      "delinq_amnt    0\n",
      "mo_sin_old_il_acct    39717\n",
      "mo_sin_old_rev_tl_op    39717\n",
      "mo_sin_rcnt_rev_tl_op    39717\n",
      "mo_sin_rcnt_tl    39717\n",
      "mort_acc    39717\n",
      "mths_since_recent_bc    39717\n",
      "mths_since_recent_bc_dlq    39717\n",
      "mths_since_recent_inq    39717\n",
      "mths_since_recent_revol_delinq    39717\n",
      "num_accts_ever_120_pd    39717\n",
      "num_actv_bc_tl    39717\n",
      "num_actv_rev_tl    39717\n",
      "num_bc_sats    39717\n",
      "num_bc_tl    39717\n",
      "num_il_tl    39717\n",
      "num_op_rev_tl    39717\n",
      "num_rev_accts    39717\n",
      "num_rev_tl_bal_gt_0    39717\n",
      "num_sats    39717\n",
      "num_tl_120dpd_2m    39717\n",
      "num_tl_30dpd    39717\n",
      "num_tl_90g_dpd_24m    39717\n",
      "num_tl_op_past_12m    39717\n",
      "pct_tl_nvr_dlq    39717\n",
      "percent_bc_gt_75    39717\n",
      "pub_rec_bankruptcies    697\n",
      "tax_liens    39\n",
      "tot_hi_cred_lim    39717\n",
      "total_bal_ex_mort    39717\n",
      "total_bc_limit    39717\n",
      "total_il_high_credit_limit    39717\n"
     ]
    }
   ],
   "source": [
    "for col in df:\n",
    "     print(df[col].name,\"  \" , sum(pd.isnull(df[col])))\n"
   ]
  },
  {
   "cell_type": "code",
   "execution_count": 28,
   "id": "f86c79f7",
   "metadata": {},
   "outputs": [
    {
     "name": "stdout",
     "output_type": "stream",
     "text": [
      "emp_title    2459\n",
      "emp_length    1075\n",
      "desc    12940\n",
      "title    11\n",
      "mths_since_last_delinq    25682\n",
      "mths_since_last_record    36931\n",
      "revol_util    50\n",
      "last_pymnt_d    71\n",
      "next_pymnt_d    38577\n",
      "last_credit_pull_d    2\n",
      "collections_12_mths_ex_med    56\n",
      "chargeoff_within_12_mths    56\n",
      "pub_rec_bankruptcies    697\n",
      "tax_liens    39\n"
     ]
    }
   ],
   "source": [
    "for col in df:\n",
    "     if ( (sum(pd.isnull(df[col])) < 39717) & (sum(pd.isnull(df[col])) > 0) ):\n",
    "        print(df[col].name,\"  \" , sum(pd.isnull(df[col])))\n"
   ]
  },
  {
   "cell_type": "code",
   "execution_count": null,
   "id": "8c741781",
   "metadata": {},
   "outputs": [],
   "source": []
  }
 ],
 "metadata": {
  "kernelspec": {
   "display_name": "Python 3 (ipykernel)",
   "language": "python",
   "name": "python3"
  },
  "language_info": {
   "codemirror_mode": {
    "name": "ipython",
    "version": 3
   },
   "file_extension": ".py",
   "mimetype": "text/x-python",
   "name": "python",
   "nbconvert_exporter": "python",
   "pygments_lexer": "ipython3",
   "version": "3.9.7"
  }
 },
 "nbformat": 4,
 "nbformat_minor": 5
}
